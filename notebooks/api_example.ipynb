{
 "cells": [
  {
   "cell_type": "code",
   "execution_count": 19,
   "id": "67ee8a7c",
   "metadata": {},
   "outputs": [
    {
     "data": {
      "text/plain": [
       "True"
      ]
     },
     "execution_count": 19,
     "metadata": {},
     "output_type": "execute_result"
    }
   ],
   "source": [
    "import requests\n",
    "from python_tools.helpers import get_yaml_var, get_secret\n",
    "from infisical_sdk import InfisicalSDKClient\n",
    "from dotenv import load_dotenv\n",
    "import os\n",
    "import json\n",
    "load_dotenv()"
   ]
  },
  {
   "cell_type": "code",
   "execution_count": 20,
   "id": "d0a59515",
   "metadata": {},
   "outputs": [
    {
     "name": "stdout",
     "output_type": "stream",
     "text": [
      "{\n",
      "    \"id\": 3,\n",
      "    \"contact_type\": \"Individual\",\n",
      "    \"external_identifier\": null,\n",
      "    \"display_name\": \"Lorem Junior VII\",\n",
      "    \"contact_sub_type\": null,\n",
      "    \"first_name\": \"Lorem\",\n",
      "    \"middle_name\": \"Ipsum\",\n",
      "    \"last_name\": \"Junior\",\n",
      "    \"do_not_email\": false,\n",
      "    \"do_not_phone\": false,\n",
      "    \"do_not_mail\": false,\n",
      "    \"do_not_sms\": false,\n",
      "    \"do_not_trade\": false,\n",
      "    \"is_opt_out\": false,\n",
      "    \"legal_identifier\": null,\n",
      "    \"sort_name\": \"Junior, Lorem VII\",\n",
      "    \"nick_name\": null,\n",
      "    \"image_URL\": null,\n",
      "    \"preferred_communication_method\": null,\n",
      "    \"preferred_language\": \"en_US\",\n",
      "    \"hash\": \"13fd263c460a9cedcc83ca6860bd774c\",\n",
      "    \"source\": null,\n",
      "    \"prefix_id\": null,\n",
      "    \"suffix_id\": 8,\n",
      "    \"formal_title\": null,\n",
      "    \"communication_style_id\": 1,\n",
      "    \"email_greeting_id\": 1,\n",
      "    \"email_greeting_custom\": null,\n",
      "    \"email_greeting_display\": \"Dear Lorem\",\n",
      "    \"postal_greeting_id\": 1,\n",
      "    \"postal_greeting_custom\": null,\n",
      "    \"postal_greeting_display\": \"Dear Lorem\",\n",
      "    \"addressee_id\": 1,\n",
      "    \"addressee_custom\": null,\n",
      "    \"addressee_display\": \"Lorem Ipsum Junior VII\",\n",
      "    \"job_title\": null,\n",
      "    \"gender_id\": null,\n",
      "    \"birth_date\": null,\n",
      "    \"is_deceased\": false,\n",
      "    \"deceased_date\": null,\n",
      "    \"user_unique_id\": null,\n",
      "    \"employer_id\": null,\n",
      "    \"is_deleted\": false,\n",
      "    \"created_date\": \"2025-08-05 14:53:50\",\n",
      "    \"modified_date\": \"2025-08-05 15:25:36\",\n",
      "    \"preferred_mail_format\": \"Both\"\n",
      "}\n"
     ]
    }
   ],
   "source": [
    "api_url = \"https://civicrm.correlaid.org/civicrm/ajax/api4/Contact/get\"\n",
    "api_key = os.getenv(\"CIVICRM_API_KEY\")\n",
    "\n",
    "headers = {\n",
    "    \"X-Civi-Auth\": f\"Bearer {api_key}\",\n",
    "    \"X-Requested-With\": \"XMLHttpRequest\"\n",
    "}\n",
    "\n",
    "data = {\n",
    "    \"params\": '{\"limit\":25}'\n",
    "}\n",
    "\n",
    "response = requests.post(api_url, headers=headers, data=data)\n",
    "\n",
    "dct = response.json()\n",
    "one = dct[\"values\"][-1]\n",
    "print(json.dumps(one, indent=4))\n"
   ]
  }
 ],
 "metadata": {
  "kernelspec": {
   "display_name": "civicrm-analyse",
   "language": "python",
   "name": "python3"
  },
  "language_info": {
   "codemirror_mode": {
    "name": "ipython",
    "version": 3
   },
   "file_extension": ".py",
   "mimetype": "text/x-python",
   "name": "python",
   "nbconvert_exporter": "python",
   "pygments_lexer": "ipython3",
   "version": "3.12.7"
  }
 },
 "nbformat": 4,
 "nbformat_minor": 5
}
