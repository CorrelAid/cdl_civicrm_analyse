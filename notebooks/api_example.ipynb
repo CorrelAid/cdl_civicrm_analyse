{
 "cells": [
  {
   "cell_type": "code",
   "execution_count": 1,
   "id": "67ee8a7c",
   "metadata": {},
   "outputs": [
    {
     "data": {
      "text/plain": [
       "True"
      ]
     },
     "execution_count": 1,
     "metadata": {},
     "output_type": "execute_result"
    }
   ],
   "source": [
    "import requests\n",
    "from python_tools.helpers import get_yaml_var, get_secret\n",
    "from infisical_sdk import InfisicalSDKClient\n",
    "from dotenv import load_dotenv\n",
    "import os\n",
    "import json\n",
    "load_dotenv()"
   ]
  },
  {
   "cell_type": "code",
   "execution_count": 3,
   "id": "d0a59515",
   "metadata": {},
   "outputs": [
    {
     "name": "stdout",
     "output_type": "stream",
     "text": [
      "[\n",
      "    {\n",
      "        \"id\": 1,\n",
      "        \"contact_type\": \"Organization\",\n",
      "        \"external_identifier\": null,\n",
      "        \"display_name\": \"Default Organization\",\n",
      "        \"organization_name\": \"Default Organization\",\n",
      "        \"contact_sub_type\": null,\n",
      "        \"do_not_email\": false,\n",
      "        \"do_not_phone\": false,\n",
      "        \"do_not_mail\": false,\n",
      "        \"do_not_sms\": false,\n",
      "        \"do_not_trade\": false,\n",
      "        \"is_opt_out\": false,\n",
      "        \"legal_identifier\": null,\n",
      "        \"sort_name\": \"Default Organization\",\n",
      "        \"nick_name\": null,\n",
      "        \"legal_name\": \"Default Organization\",\n",
      "        \"image_URL\": null,\n",
      "        \"preferred_communication_method\": null,\n",
      "        \"preferred_language\": null,\n",
      "        \"hash\": null,\n",
      "        \"source\": null,\n",
      "        \"communication_style_id\": null,\n",
      "        \"email_greeting_id\": null,\n",
      "        \"email_greeting_custom\": null,\n",
      "        \"email_greeting_display\": null,\n",
      "        \"postal_greeting_id\": null,\n",
      "        \"postal_greeting_custom\": null,\n",
      "        \"postal_greeting_display\": null,\n",
      "        \"addressee_id\": null,\n",
      "        \"addressee_custom\": null,\n",
      "        \"addressee_display\": null,\n",
      "        \"sic_code\": null,\n",
      "        \"user_unique_id\": null,\n",
      "        \"is_deleted\": false,\n",
      "        \"created_date\": null,\n",
      "        \"modified_date\": \"2025-08-04 22:36:26\",\n",
      "        \"preferred_mail_format\": \"Both\"\n",
      "    },\n",
      "    {\n",
      "        \"id\": 2,\n",
      "        \"contact_type\": \"Individual\",\n",
      "        \"external_identifier\": null,\n",
      "        \"display_name\": \"Standalone Admin\",\n",
      "        \"contact_sub_type\": null,\n",
      "        \"first_name\": \"Standalone\",\n",
      "        \"middle_name\": null,\n",
      "        \"last_name\": \"Admin\",\n",
      "        \"do_not_email\": false,\n",
      "        \"do_not_phone\": false,\n",
      "        \"do_not_mail\": false,\n",
      "        \"do_not_sms\": false,\n",
      "        \"do_not_trade\": false,\n",
      "        \"is_opt_out\": false,\n",
      "        \"legal_identifier\": null,\n",
      "        \"sort_name\": \"Admin, Standalone\",\n",
      "        \"nick_name\": null,\n",
      "        \"image_URL\": null,\n",
      "        \"preferred_communication_method\": null,\n",
      "        \"preferred_language\": \"en_US\",\n",
      "        \"hash\": \"ccf9e0a3f10fe458a46cf99e0b072352\",\n",
      "        \"source\": null,\n",
      "        \"prefix_id\": null,\n",
      "        \"suffix_id\": null,\n",
      "        \"formal_title\": null,\n",
      "        \"communication_style_id\": 1,\n",
      "        \"email_greeting_id\": 1,\n",
      "        \"email_greeting_custom\": null,\n",
      "        \"email_greeting_display\": \"Dear Standalone\",\n",
      "        \"postal_greeting_id\": 1,\n",
      "        \"postal_greeting_custom\": null,\n",
      "        \"postal_greeting_display\": \"Dear Standalone\",\n",
      "        \"addressee_id\": 1,\n",
      "        \"addressee_custom\": null,\n",
      "        \"addressee_display\": \"Standalone Admin\",\n",
      "        \"job_title\": null,\n",
      "        \"gender_id\": null,\n",
      "        \"birth_date\": null,\n",
      "        \"is_deceased\": false,\n",
      "        \"deceased_date\": null,\n",
      "        \"user_unique_id\": null,\n",
      "        \"employer_id\": null,\n",
      "        \"is_deleted\": false,\n",
      "        \"created_date\": \"2025-08-04 22:36:37\",\n",
      "        \"modified_date\": \"2025-08-04 22:36:37\",\n",
      "        \"preferred_mail_format\": \"Both\"\n",
      "    }\n",
      "]\n"
     ]
    }
   ],
   "source": [
    "base_url = get_yaml_var(\"app_fqdn\", \"../ansible/group_vars/group_vars.yml\")\n",
    "\n",
    "api_url = f\"https://{base_url}/civicrm/ajax/api4/Contact/get\"\n",
    "api_key = os.getenv(\"CIVICRM_API_KEY\")\n",
    "\n",
    "headers = {\n",
    "    \"X-Civi-Auth\": f\"Bearer {api_key}\",\n",
    "    \"X-Requested-With\": \"XMLHttpRequest\"\n",
    "}\n",
    "\n",
    "data = {\n",
    "    \"params\": '{\"limit\":25}'\n",
    "}\n",
    "\n",
    "response = requests.post(api_url, headers=headers, data=data)\n",
    "\n",
    "dct = response.json()\n",
    "one = dct[\"values\"][:2]\n",
    "print(json.dumps(one, indent=4))\n"
   ]
  },
  {
   "cell_type": "code",
   "execution_count": 4,
   "id": "fa905e2b",
   "metadata": {},
   "outputs": [
    {
     "data": {
      "text/plain": [
       "7"
      ]
     },
     "execution_count": 4,
     "metadata": {},
     "output_type": "execute_result"
    }
   ],
   "source": [
    "len(dct)"
   ]
  }
 ],
 "metadata": {
  "kernelspec": {
   "display_name": "civicrm-analyse",
   "language": "python",
   "name": "python3"
  },
  "language_info": {
   "codemirror_mode": {
    "name": "ipython",
    "version": 3
   },
   "file_extension": ".py",
   "mimetype": "text/x-python",
   "name": "python",
   "nbconvert_exporter": "python",
   "pygments_lexer": "ipython3",
   "version": "3.12.7"
  }
 },
 "nbformat": 4,
 "nbformat_minor": 5
}
